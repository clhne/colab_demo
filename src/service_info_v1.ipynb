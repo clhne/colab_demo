{
  "nbformat": 4,
  "nbformat_minor": 0,
  "metadata": {
    "colab": {
      "name": "Untitled1.ipynb",
      "version": "0.3.2",
      "provenance": [],
      "collapsed_sections": [],
      "include_colab_link": true
    },
    "kernelspec": {
      "name": "python3",
      "display_name": "Python 3"
    },
    "accelerator": "GPU"
  },
  "cells": [
    {
      "cell_type": "markdown",
      "metadata": {
        "id": "view-in-github",
        "colab_type": "text"
      },
      "source": [
        "<a href=\"https://colab.research.google.com/github/clhne/colab_demo/blob/master/src/service_info_v1.ipynb\" target=\"_parent\"><img src=\"https://colab.research.google.com/assets/colab-badge.svg\" alt=\"Open In Colab\"/></a>"
      ]
    },
    {
      "metadata": {
        "id": "lA2KLJ7v7tCo",
        "colab_type": "code",
        "colab": {
          "base_uri": "https://localhost:8080/",
          "height": 850
        },
        "outputId": "689d5954-d3f8-493f-c5b8-e5407e550c43"
      },
      "cell_type": "code",
      "source": [
        "import tensorflow as tf\n",
        "import keras as ks\n",
        "from tensorflow.python.client import device_lib\n",
        "print('TensorFlow version:',tf.__version__)\n",
        "print('TensorFlow path:',tf.__file__)\n",
        "print('keras version:',ks.__version__)\n",
        "print('keras path:',ks.__file__)\n",
        "print\n",
        "#!ls ../../\n",
        "#!cat /proc/cpuinfo\n",
        "#!cat /proc/meminfo\n",
        "print('--------------meminfo---------------------')\n",
        "!free -mh\n",
        "print('------------------------------------------')\n",
        "print('--------------disinfo---------------------')\n",
        "!df -lh\n",
        "print('------------------------------------------')\n",
        "#!uname -a\n",
        "print('--------------sysinfo---------------------')\n",
        "!lsb_release -a\n",
        "print('------------------------------------------')\n",
        "\n",
        "print('--------------GPUinfo---------------------')\n",
        "!nvidia-smi\n",
        "device_lib.list_local_devices()\n",
        "print('------------------------------------------')\n",
        "\n",
        "print('--------Is GPU Working?-------------------')\n",
        "print(tf.test.is_gpu_available(cuda_only=False,min_cuda_compute_capability=None))\n",
        "print(tf.test.gpu_device_name())\n",
        "print('------------------------------------------')"
      ],
      "execution_count": 61,
      "outputs": [
        {
          "output_type": "stream",
          "text": [
            "TensorFlow version: 1.12.0\n",
            "TensorFlow path: /usr/local/lib/python3.6/dist-packages/tensorflow/__init__.py\n",
            "keras version: 2.2.4\n",
            "keras path: /usr/local/lib/python3.6/dist-packages/keras/__init__.py\n",
            "--------------meminfo---------------------\n",
            "              total        used        free      shared  buff/cache   available\n",
            "Mem:            12G        1.9G        8.4G        7.8M        2.5G         11G\n",
            "Swap:            0B          0B          0B\n",
            "------------------------------------------\n",
            "--------------disinfo---------------------\n",
            "Filesystem      Size  Used Avail Use% Mounted on\n",
            "overlay         359G  7.6G  333G   3% /\n",
            "tmpfs           6.4G     0  6.4G   0% /dev\n",
            "tmpfs           6.4G     0  6.4G   0% /sys/fs/cgroup\n",
            "tmpfs           6.4G  8.0K  6.4G   1% /var/colab\n",
            "/dev/sda1       365G   11G  355G   3% /opt/bin\n",
            "shm              64M     0   64M   0% /dev/shm\n",
            "tmpfs           6.4G     0  6.4G   0% /sys/firmware\n",
            "drive            15G   73M   15G   1% /content/drive\n",
            "------------------------------------------\n",
            "--------------sysinfo---------------------\n",
            "No LSB modules are available.\n",
            "Distributor ID:\tUbuntu\n",
            "Description:\tUbuntu 18.04.1 LTS\n",
            "Release:\t18.04\n",
            "Codename:\tbionic\n",
            "------------------------------------------\n",
            "--------------GPUinfo---------------------\n",
            "Mon Nov 12 06:21:11 2018       \n",
            "+-----------------------------------------------------------------------------+\n",
            "| NVIDIA-SMI 396.44                 Driver Version: 396.44                    |\n",
            "|-------------------------------+----------------------+----------------------+\n",
            "| GPU  Name        Persistence-M| Bus-Id        Disp.A | Volatile Uncorr. ECC |\n",
            "| Fan  Temp  Perf  Pwr:Usage/Cap|         Memory-Usage | GPU-Util  Compute M. |\n",
            "|===============================+======================+======================|\n",
            "|   0  Tesla K80           Off  | 00000000:00:04.0 Off |                    0 |\n",
            "| N/A   73C    P0    73W / 149W |   1088MiB / 11441MiB |      0%      Default |\n",
            "+-------------------------------+----------------------+----------------------+\n",
            "                                                                               \n",
            "+-----------------------------------------------------------------------------+\n",
            "| Processes:                                                       GPU Memory |\n",
            "|  GPU       PID   Type   Process name                             Usage      |\n",
            "|=============================================================================|\n",
            "+-----------------------------------------------------------------------------+\n",
            "------------------------------------------\n",
            "--------Is GPU Working?-------------------\n",
            "True\n",
            "/device:GPU:0\n",
            "------------------------------------------\n"
          ],
          "name": "stdout"
        }
      ]
    },
    {
      "metadata": {
        "id": "fo95JuAb-CV7",
        "colab_type": "code",
        "colab": {
          "base_uri": "https://localhost:8080/",
          "height": 629
        },
        "outputId": "9f958887-6986-4ee4-cc74-533cfaf2b7d8"
      },
      "cell_type": "code",
      "source": [
        "#!apt-get install neofetch\n",
        "#!cat /usr/local/cuda/version.txt\n",
        "#!cat /usr/local/cuda/include/cudnn.h | grep CUDNN_MAJOR -A 2\n",
        "#!ls /usr/local/cuda/include/\n",
        "#dpkg -l\n",
        "!neofetch\n",
        "tf.test.is_gpu_available(\n",
        "    cuda_only=False,\n",
        "    min_cuda_compute_capability=None\n",
        ")\n"
      ],
      "execution_count": 55,
      "outputs": [
        {
          "output_type": "stream",
          "text": [
            "\u001b[?25l\u001b[?7l\u001b[0m\u001b[31m\u001b[1m            .-/+oossssoo+/-. \n",
            "        `:+ssssssssssssssssss+:` \n",
            "      -+ssssssssssssssssssyyssss+- \n",
            "    .ossssssssssssssssss\u001b[37m\u001b[0m\u001b[1mdMMMNy\u001b[0m\u001b[31m\u001b[1msssso. \n",
            "   /sssssssssss\u001b[37m\u001b[0m\u001b[1mhdmmNNmmyNMMMMh\u001b[0m\u001b[31m\u001b[1mssssss/ \n",
            "  +sssssssss\u001b[37m\u001b[0m\u001b[1mhm\u001b[0m\u001b[31m\u001b[1myd\u001b[37m\u001b[0m\u001b[1mMMMMMMMNddddy\u001b[0m\u001b[31m\u001b[1mssssssss+ \n",
            " /ssssssss\u001b[37m\u001b[0m\u001b[1mhNMMM\u001b[0m\u001b[31m\u001b[1myh\u001b[37m\u001b[0m\u001b[1mhyyyyhmNMMMNh\u001b[0m\u001b[31m\u001b[1mssssssss/ \n",
            ".ssssssss\u001b[37m\u001b[0m\u001b[1mdMMMNh\u001b[0m\u001b[31m\u001b[1mssssssssss\u001b[37m\u001b[0m\u001b[1mhNMMMd\u001b[0m\u001b[31m\u001b[1mssssssss. \n",
            "+ssss\u001b[37m\u001b[0m\u001b[1mhhhyNMMNy\u001b[0m\u001b[31m\u001b[1mssssssssssss\u001b[37m\u001b[0m\u001b[1myNMMMy\u001b[0m\u001b[31m\u001b[1msssssss+ \n",
            "oss\u001b[37m\u001b[0m\u001b[1myNMMMNyMMh\u001b[0m\u001b[31m\u001b[1mssssssssssssss\u001b[37m\u001b[0m\u001b[1mhmmmh\u001b[0m\u001b[31m\u001b[1mssssssso \n",
            "oss\u001b[37m\u001b[0m\u001b[1myNMMMNyMMh\u001b[0m\u001b[31m\u001b[1msssssssssssssshmmmh\u001b[0m\u001b[31m\u001b[1mssssssso \n",
            "+ssss\u001b[37m\u001b[0m\u001b[1mhhhyNMMNy\u001b[0m\u001b[31m\u001b[1mssssssssssss\u001b[37m\u001b[0m\u001b[1myNMMMy\u001b[0m\u001b[31m\u001b[1msssssss+ \n",
            ".ssssssss\u001b[37m\u001b[0m\u001b[1mdMMMNh\u001b[0m\u001b[31m\u001b[1mssssssssss\u001b[37m\u001b[0m\u001b[1mhNMMMd\u001b[0m\u001b[31m\u001b[1mssssssss. \n",
            " /ssssssss\u001b[37m\u001b[0m\u001b[1mhNMMM\u001b[0m\u001b[31m\u001b[1myh\u001b[37m\u001b[0m\u001b[1mhyyyyhdNMMMNh\u001b[0m\u001b[31m\u001b[1mssssssss/ \n",
            "  +sssssssss\u001b[37m\u001b[0m\u001b[1mdm\u001b[0m\u001b[31m\u001b[1myd\u001b[37m\u001b[0m\u001b[1mMMMMMMMMddddy\u001b[0m\u001b[31m\u001b[1mssssssss+ \n",
            "   /sssssssssss\u001b[37m\u001b[0m\u001b[1mhdmNNNNmyNMMMMh\u001b[0m\u001b[31m\u001b[1mssssss/ \n",
            "    .ossssssssssssssssss\u001b[37m\u001b[0m\u001b[1mdMMMNy\u001b[0m\u001b[31m\u001b[1msssso. \n",
            "      -+sssssssssssssssss\u001b[37m\u001b[0m\u001b[1myyy\u001b[0m\u001b[31m\u001b[1mssss+- \n",
            "        `:+ssssssssssssssssss+:` \n",
            "            .-/+oossssoo+/-. \n",
            "\u001b[20A\u001b[9999999D\u001b[43C\u001b[0m\u001b[1m\u001b[0m\u001b[31m\u001b[1mroot@\u001b[0m\u001b[31m\u001b[1ma1573cb00c4f\u001b[0m \n",
            "\u001b[43C\u001b[0m-----------------\u001b[0m \n",
            "\u001b[43C\u001b[0m\u001b[31m\u001b[1mOS\u001b[0m\u001b[0m:\u001b[0m Ubuntu 18.04.1 LTS on Chrome OS x86_64\u001b[0m \n",
            "\u001b[43C\u001b[0m\u001b[31m\u001b[1mHost\u001b[0m\u001b[0m:\u001b[0m Google Compute Engine\u001b[0m \n",
            "\u001b[43C\u001b[0m\u001b[31m\u001b[1mKernel\u001b[0m\u001b[0m:\u001b[0m 4.14.65+\u001b[0m \n",
            "\u001b[43C\u001b[0m\u001b[31m\u001b[1mUptime\u001b[0m\u001b[0m:\u001b[0m 2 hours, 44 mins\u001b[0m \n",
            "\u001b[43C\u001b[0m\u001b[31m\u001b[1mPackages\u001b[0m\u001b[0m:\u001b[0m 385\u001b[0m \n",
            "\u001b[43C\u001b[0m\u001b[31m\u001b[1mShell\u001b[0m\u001b[0m:\u001b[0m bash 4.4.19\u001b[0m \n",
            "\u001b[43C\u001b[0m\u001b[31m\u001b[1mTerminal\u001b[0m\u001b[0m:\u001b[0m jupyter-noteboo\u001b[0m \n",
            "\u001b[43C\u001b[0m\u001b[31m\u001b[1mCPU\u001b[0m\u001b[0m:\u001b[0m Intel Xeon (2) @ 2.300GHz\u001b[0m \n",
            "\u001b[43C\u001b[0m\u001b[31m\u001b[1mMemory\u001b[0m\u001b[0m:\u001b[0m 1920MiB / 13022MiB\u001b[0m \n",
            "\n",
            "\u001b[43C\u001b[0m\u001b[30m\u001b[40m   \u001b[0m\u001b[31m\u001b[41m   \u001b[0m\u001b[32m\u001b[42m   \u001b[0m\u001b[33m\u001b[43m   \u001b[0m\u001b[34m\u001b[44m   \u001b[0m\u001b[35m\u001b[45m   \u001b[0m\u001b[36m\u001b[46m   \u001b[0m\u001b[37m\u001b[47m   \u001b[0m\n",
            "\n",
            "\n",
            "\u001b[6B\u001b[?25h\u001b[?7h"
          ],
          "name": "stdout"
        },
        {
          "output_type": "execute_result",
          "data": {
            "text/plain": [
              "True"
            ]
          },
          "metadata": {
            "tags": []
          },
          "execution_count": 55
        }
      ]
    },
    {
      "metadata": {
        "id": "A4pmGbUZg8-p",
        "colab_type": "code",
        "colab": {
          "base_uri": "https://localhost:8080/",
          "height": 122
        },
        "outputId": "25a71439-6b7d-491b-975c-f15133add623"
      },
      "cell_type": "code",
      "source": [
        "from google.colab import drive\n",
        "drive.mount('/content/drive/')"
      ],
      "execution_count": 48,
      "outputs": [
        {
          "output_type": "stream",
          "text": [
            "Go to this URL in a browser: https://accounts.google.com/o/oauth2/auth?client_id=947318989803-6bn6qk8qdgf4n4g3pfee6491hc0brc4i.apps.googleusercontent.com&redirect_uri=urn%3Aietf%3Awg%3Aoauth%3A2.0%3Aoob&scope=email%20https%3A%2F%2Fwww.googleapis.com%2Fauth%2Fdocs.test%20https%3A%2F%2Fwww.googleapis.com%2Fauth%2Fdrive%20https%3A%2F%2Fwww.googleapis.com%2Fauth%2Fdrive.photos.readonly%20https%3A%2F%2Fwww.googleapis.com%2Fauth%2Fpeopleapi.readonly&response_type=code\n",
            "\n",
            "Enter your authorization code:\n",
            "··········\n",
            "Mounted at /content/drive/\n"
          ],
          "name": "stdout"
        }
      ]
    }
  ]
}
{
  "nbformat": 4,
  "nbformat_minor": 0,
  "metadata": {
    "colab": {
      "name": "Untitled1.ipynb",
      "version": "0.3.2",
      "provenance": [],
      "collapsed_sections": [],
      "include_colab_link": true
    },
    "kernelspec": {
      "name": "python3",
      "display_name": "Python 3"
    },
    "accelerator": "GPU"
  },
  "cells": [
    {
      "cell_type": "markdown",
      "metadata": {
        "id": "view-in-github",
        "colab_type": "text"
      },
      "source": [
        "<a href=\"https://colab.research.google.com/github/clhne/colab_demo/blob/master/src/service_info.ipynb\" target=\"_parent\"><img src=\"https://colab.research.google.com/assets/colab-badge.svg\" alt=\"Open In Colab\"/></a>"
      ]
    },
    {
      "metadata": {
        "id": "lA2KLJ7v7tCo",
        "colab_type": "code",
        "colab": {
          "base_uri": "https://localhost:8080/",
          "height": 697
        },
        "outputId": "4bf23c22-13ec-41e4-815f-1a629ee60e68"
      },
      "cell_type": "code",
      "source": [
        "import tensorflow as tf\n",
        "import keras as ks\n",
        "print(ks.__version__)\n",
        "print(ks.__file__)\n",
        "print(tf.__version__)\n",
        "print(tf.__file__)\n",
        "!ls ../../\n",
        "#!cat /proc/cpuinfo\n",
        "#!cat /proc/meminfo\n",
        "!free -mh\n",
        "!df -lh\n",
        "!uname -a\n",
        "!lsb_release -a\n",
        "tf.test.is_gpu_available(\n",
        "    cuda_only=True,\n",
        "    min_cuda_compute_capability=None\n",
        ")\n",
        "tf.test.gpu_device_name()\n",
        "!nvidia-smi"
      ],
      "execution_count": 25,
      "outputs": [
        {
          "output_type": "stream",
          "text": [
            "2.2.4\n",
            "/usr/local/lib/python3.6/dist-packages/keras/__init__.py\n",
            "1.12.0\n",
            "/usr/local/lib/python3.6/dist-packages/tensorflow/__init__.py\n",
            "bin\t    content  etc   lib64  opt\trun   sys    usr\n",
            "boot\t    datalab  home  media  proc\tsbin  tmp    var\n",
            "colabtools  dev      lib   mnt\t  root\tsrv   tools\n",
            "              total        used        free      shared  buff/cache   available\n",
            "Mem:            12G        1.8G        8.7G        7.8M        2.1G         11G\n",
            "Swap:            0B          0B          0B\n",
            "Filesystem      Size  Used Avail Use% Mounted on\n",
            "overlay         359G  7.6G  333G   3% /\n",
            "tmpfs           6.4G     0  6.4G   0% /dev\n",
            "tmpfs           6.4G     0  6.4G   0% /sys/fs/cgroup\n",
            "tmpfs           6.4G  8.0K  6.4G   1% /var/colab\n",
            "/dev/sda1       365G   10G  356G   3% /opt/bin\n",
            "shm              64M     0   64M   0% /dev/shm\n",
            "tmpfs           6.4G     0  6.4G   0% /sys/firmware\n",
            "Linux a1573cb00c4f 4.14.65+ #1 SMP Sun Sep 9 02:18:33 PDT 2018 x86_64 x86_64 x86_64 GNU/Linux\n",
            "No LSB modules are available.\n",
            "Distributor ID:\tUbuntu\n",
            "Description:\tUbuntu 18.04.1 LTS\n",
            "Release:\t18.04\n",
            "Codename:\tbionic\n",
            "Mon Nov 12 04:55:28 2018       \n",
            "+-----------------------------------------------------------------------------+\n",
            "| NVIDIA-SMI 396.44                 Driver Version: 396.44                    |\n",
            "|-------------------------------+----------------------+----------------------+\n",
            "| GPU  Name        Persistence-M| Bus-Id        Disp.A | Volatile Uncorr. ECC |\n",
            "| Fan  Temp  Perf  Pwr:Usage/Cap|         Memory-Usage | GPU-Util  Compute M. |\n",
            "|===============================+======================+======================|\n",
            "|   0  Tesla K80           Off  | 00000000:00:04.0 Off |                    0 |\n",
            "| N/A   73C    P0    75W / 149W |   1088MiB / 11441MiB |      0%      Default |\n",
            "+-------------------------------+----------------------+----------------------+\n",
            "                                                                               \n",
            "+-----------------------------------------------------------------------------+\n",
            "| Processes:                                                       GPU Memory |\n",
            "|  GPU       PID   Type   Process name                             Usage      |\n",
            "|=============================================================================|\n",
            "+-----------------------------------------------------------------------------+\n"
          ],
          "name": "stdout"
        }
      ]
    },
    {
      "metadata": {
        "id": "fo95JuAb-CV7",
        "colab_type": "code",
        "colab": {
          "base_uri": "https://localhost:8080/",
          "height": 731
        },
        "outputId": "c74a2fe6-19d4-467b-8b4f-4c6f3fd21419"
      },
      "cell_type": "code",
      "source": [
        "!cat /usr/local/cuda/version.txt\n",
        "#!cat /usr/local/cuda/include/cudnn.h | grep CUDNN_MAJOR -A 2\n",
        "#!ls /usr/local/cuda/include/"
      ],
      "execution_count": 31,
      "outputs": [
        {
          "output_type": "stream",
          "text": [
            "CUDA Version 9.2.148\n",
            "builtin_types.h\t\t      host_defines.h\n",
            "channel_descriptor.h\t      library_types.h\n",
            "CL\t\t\t      math_constants.h\n",
            "common_functions.h\t      math_functions.h\n",
            "cooperative_groups.h\t      mma.h\n",
            "cooperative_groups_helpers.h  nvfunctional\n",
            "crt\t\t\t      nvToolsExtCuda.h\n",
            "cuComplex.h\t\t      nvToolsExtCudaRt.h\n",
            "cuda_device_runtime_api.h     nvToolsExt.h\n",
            "cudaEGL.h\t\t      nvToolsExtMeta.h\n",
            "cuda_egl_interop.h\t      nvToolsExtSync.h\n",
            "cuda_fp16.h\t\t      sm_20_atomic_functions.h\n",
            "cuda_fp16.hpp\t\t      sm_20_atomic_functions.hpp\n",
            "cudaGL.h\t\t      sm_20_intrinsics.h\n",
            "cuda_gl_interop.h\t      sm_20_intrinsics.hpp\n",
            "cuda.h\t\t\t      sm_30_intrinsics.h\n",
            "cudalibxt.h\t\t      sm_30_intrinsics.hpp\n",
            "cuda_occupancy.h\t      sm_32_atomic_functions.h\n",
            "cuda_profiler_api.h\t      sm_32_atomic_functions.hpp\n",
            "cudaProfiler.h\t\t      sm_32_intrinsics.h\n",
            "cuda_runtime_api.h\t      sm_32_intrinsics.hpp\n",
            "cuda_runtime.h\t\t      sm_35_atomic_functions.h\n",
            "cuda_surface_types.h\t      sm_35_intrinsics.h\n",
            "cuda_texture_types.h\t      sm_60_atomic_functions.h\n",
            "cudaVDPAU.h\t\t      sm_60_atomic_functions.hpp\n",
            "cuda_vdpau_interop.h\t      sm_61_intrinsics.h\n",
            "device_atomic_functions.h     sm_61_intrinsics.hpp\n",
            "device_atomic_functions.hpp   surface_functions.h\n",
            "device_double_functions.h     surface_functions.hpp\n",
            "device_functions.h\t      surface_indirect_functions.h\n",
            "device_launch_parameters.h    surface_indirect_functions.hpp\n",
            "device_types.h\t\t      surface_types.h\n",
            "driver_functions.h\t      texture_fetch_functions.h\n",
            "driver_types.h\t\t      texture_fetch_functions.hpp\n",
            "dynlink_cuda_cuda.h\t      texture_indirect_functions.h\n",
            "dynlink_cuda.h\t\t      texture_indirect_functions.hpp\n",
            "dynlink_cuviddec.h\t      texture_types.h\n",
            "dynlink_nvcuvid.h\t      thrust\n",
            "fatBinaryCtl.h\t\t      vector_functions.h\n",
            "fatbinary.h\t\t      vector_functions.hpp\n",
            "host_config.h\t\t      vector_types.h\n"
          ],
          "name": "stdout"
        }
      ]
    }
  ]
}